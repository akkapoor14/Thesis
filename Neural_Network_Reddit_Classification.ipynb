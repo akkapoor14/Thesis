{
  "cells": [
    {
      "cell_type": "code",
      "execution_count": null,
      "metadata": {
        "id": "8NfJZ1_K17ia"
      },
      "outputs": [],
      "source": [
        "# Importing necessary libraries\n",
        "import numpy as np\n",
        "import pandas as pd\n",
        "import tensorflow as tf\n",
        "from sklearn.model_selection import train_test_split\n",
        "from sklearn.preprocessing import LabelEncoder\n",
        "from tensorflow.keras.preprocessing.text import Tokenizer\n",
        "from tensorflow.keras.preprocessing.sequence import pad_sequences\n",
        "from tensorflow.keras.models import Sequential\n",
        "from tensorflow.keras.layers import Embedding, LSTM, Dense, Bidirectional, Dropout\n",
        "\n"
      ]
    },
    {
      "cell_type": "code",
      "execution_count": null,
      "metadata": {
        "id": "tgT_8_7l2Y67"
      },
      "outputs": [],
      "source": [
        "# Load your dataset\n",
        "# Assume you have a dataset with two columns: 'text' for the news content and 'label' for the classification (fake/real)\n",
        "# Replace 'your_dataset.csv' with your dataset file path\n",
        "\n",
        "truenews = pd.read_csv('/content/True.csv')\n",
        "fakenews = pd.read_csv('/content/Fake.csv')"
      ]
    },
    {
      "cell_type": "code",
      "execution_count": null,
      "metadata": {
        "colab": {
          "base_uri": "https://localhost:8080/",
          "height": 842
        },
        "id": "iEN-qnX82chZ",
        "outputId": "b1101add-6778-4fa3-e389-3f49309e53c4"
      },
      "outputs": [
        {
          "output_type": "stream",
          "name": "stdout",
          "text": [
            "21417\n",
            "23481\n",
            "21192\n",
            "17455\n"
          ]
        },
        {
          "output_type": "stream",
          "name": "stderr",
          "text": [
            "<ipython-input-3-7836e655249d>:10: SettingWithCopyWarning: \n",
            "A value is trying to be set on a copy of a slice from a DataFrame.\n",
            "Try using .loc[row_indexer,col_indexer] = value instead\n",
            "\n",
            "See the caveats in the documentation: https://pandas.pydata.org/pandas-docs/stable/user_guide/indexing.html#returning-a-view-versus-a-copy\n",
            "  truenews['True/Fake']=1 #'True'\n"
          ]
        },
        {
          "output_type": "execute_result",
          "data": {
            "text/plain": [
              "                                                   title  \\\n",
              "20081  Hammond says UK 'very close' to deal on EU cit...   \n",
              "5933   Peru and Colombia vow to stand with Mexico aft...   \n",
              "17095  Why Are We Taking A Huge Number Of Muslim Refu...   \n",
              "15284  Singapore detains two for 'terrorism-related' ...   \n",
              "16669  EU's Juncker says EU will reach a fair Brexit ...   \n",
              "...                                                  ...   \n",
              "21328  WATCH #BlackLivesMatter Students Panic When As...   \n",
              "9570   Trump touts 'great' day in D.C. meeting with R...   \n",
              "4880   Republican lawmakers: health plan tax credit c...   \n",
              "2099   Amid Trump backlash, his U.N. envoy says stand...   \n",
              "5854    Trump Has Now Banned NINE Media Outlets – A L...   \n",
              "\n",
              "                                                    text          subject  \\\n",
              "20081  BUDAPEST (Reuters) - Britain is very close to ...        worldnews   \n",
              "5933   LIMA (Reuters) - Peru and Colombia vowed to st...     politicsNews   \n",
              "17095  John Kerry just announced that America will be...  Government News   \n",
              "15284  SINGAPORE (Reuters) - Singapore said on Thursd...        worldnews   \n",
              "16669  STRASBOURG (Reuters) - The European Commission...        worldnews   \n",
              "...                                                  ...              ...   \n",
              "21328  After watching this video, it becomes very cle...        left-news   \n",
              "9570   WASHINGTON (Reuters) - Presumptive Republican ...     politicsNews   \n",
              "4880   WASHINGTON (Reuters) - U.S. Republicans’ propo...     politicsNews   \n",
              "2099   WASHINGTON (Reuters) - U.S. Ambassador to the ...     politicsNews   \n",
              "5854   When Donald Trump banned the Washington Post f...             News   \n",
              "\n",
              "                      date  True/Fake  \\\n",
              "20081  September 14, 2017           1   \n",
              "5933     January 27, 2017           1   \n",
              "17095         Sep 20, 2015          0   \n",
              "15284    November 9, 2017           1   \n",
              "16669    October 24, 2017           1   \n",
              "...                    ...        ...   \n",
              "21328         Nov 16, 2015          0   \n",
              "9570         May 12, 2016           1   \n",
              "4880       March 17, 2017           1   \n",
              "2099      August 19, 2017           1   \n",
              "5854         June 16, 2016          0   \n",
              "\n",
              "                                                 Article  \n",
              "20081  Hammond says UK 'very close' to deal on EU cit...  \n",
              "5933   Peru and Colombia vow to stand with Mexico aft...  \n",
              "17095  Why Are We Taking A Huge Number Of Muslim Refu...  \n",
              "15284  Singapore detains two for 'terrorism-related' ...  \n",
              "16669  EU's Juncker says EU will reach a fair Brexit ...  \n",
              "...                                                  ...  \n",
              "21328  WATCH #BlackLivesMatter Students Panic When As...  \n",
              "9570   Trump touts 'great' day in D.C. meeting with R...  \n",
              "4880   Republican lawmakers: health plan tax credit c...  \n",
              "2099   Amid Trump backlash, his U.N. envoy says stand...  \n",
              "5854    Trump Has Now Banned NINE Media Outlets – A L...  \n",
              "\n",
              "[38647 rows x 6 columns]"
            ],
            "text/html": [
              "\n",
              "  <div id=\"df-d92de95e-1f9b-4748-9e1c-ca18211f77ed\" class=\"colab-df-container\">\n",
              "    <div>\n",
              "<style scoped>\n",
              "    .dataframe tbody tr th:only-of-type {\n",
              "        vertical-align: middle;\n",
              "    }\n",
              "\n",
              "    .dataframe tbody tr th {\n",
              "        vertical-align: top;\n",
              "    }\n",
              "\n",
              "    .dataframe thead th {\n",
              "        text-align: right;\n",
              "    }\n",
              "</style>\n",
              "<table border=\"1\" class=\"dataframe\">\n",
              "  <thead>\n",
              "    <tr style=\"text-align: right;\">\n",
              "      <th></th>\n",
              "      <th>title</th>\n",
              "      <th>text</th>\n",
              "      <th>subject</th>\n",
              "      <th>date</th>\n",
              "      <th>True/Fake</th>\n",
              "      <th>Article</th>\n",
              "    </tr>\n",
              "  </thead>\n",
              "  <tbody>\n",
              "    <tr>\n",
              "      <th>20081</th>\n",
              "      <td>Hammond says UK 'very close' to deal on EU cit...</td>\n",
              "      <td>BUDAPEST (Reuters) - Britain is very close to ...</td>\n",
              "      <td>worldnews</td>\n",
              "      <td>September 14, 2017</td>\n",
              "      <td>1</td>\n",
              "      <td>Hammond says UK 'very close' to deal on EU cit...</td>\n",
              "    </tr>\n",
              "    <tr>\n",
              "      <th>5933</th>\n",
              "      <td>Peru and Colombia vow to stand with Mexico aft...</td>\n",
              "      <td>LIMA (Reuters) - Peru and Colombia vowed to st...</td>\n",
              "      <td>politicsNews</td>\n",
              "      <td>January 27, 2017</td>\n",
              "      <td>1</td>\n",
              "      <td>Peru and Colombia vow to stand with Mexico aft...</td>\n",
              "    </tr>\n",
              "    <tr>\n",
              "      <th>17095</th>\n",
              "      <td>Why Are We Taking A Huge Number Of Muslim Refu...</td>\n",
              "      <td>John Kerry just announced that America will be...</td>\n",
              "      <td>Government News</td>\n",
              "      <td>Sep 20, 2015</td>\n",
              "      <td>0</td>\n",
              "      <td>Why Are We Taking A Huge Number Of Muslim Refu...</td>\n",
              "    </tr>\n",
              "    <tr>\n",
              "      <th>15284</th>\n",
              "      <td>Singapore detains two for 'terrorism-related' ...</td>\n",
              "      <td>SINGAPORE (Reuters) - Singapore said on Thursd...</td>\n",
              "      <td>worldnews</td>\n",
              "      <td>November 9, 2017</td>\n",
              "      <td>1</td>\n",
              "      <td>Singapore detains two for 'terrorism-related' ...</td>\n",
              "    </tr>\n",
              "    <tr>\n",
              "      <th>16669</th>\n",
              "      <td>EU's Juncker says EU will reach a fair Brexit ...</td>\n",
              "      <td>STRASBOURG (Reuters) - The European Commission...</td>\n",
              "      <td>worldnews</td>\n",
              "      <td>October 24, 2017</td>\n",
              "      <td>1</td>\n",
              "      <td>EU's Juncker says EU will reach a fair Brexit ...</td>\n",
              "    </tr>\n",
              "    <tr>\n",
              "      <th>...</th>\n",
              "      <td>...</td>\n",
              "      <td>...</td>\n",
              "      <td>...</td>\n",
              "      <td>...</td>\n",
              "      <td>...</td>\n",
              "      <td>...</td>\n",
              "    </tr>\n",
              "    <tr>\n",
              "      <th>21328</th>\n",
              "      <td>WATCH #BlackLivesMatter Students Panic When As...</td>\n",
              "      <td>After watching this video, it becomes very cle...</td>\n",
              "      <td>left-news</td>\n",
              "      <td>Nov 16, 2015</td>\n",
              "      <td>0</td>\n",
              "      <td>WATCH #BlackLivesMatter Students Panic When As...</td>\n",
              "    </tr>\n",
              "    <tr>\n",
              "      <th>9570</th>\n",
              "      <td>Trump touts 'great' day in D.C. meeting with R...</td>\n",
              "      <td>WASHINGTON (Reuters) - Presumptive Republican ...</td>\n",
              "      <td>politicsNews</td>\n",
              "      <td>May 12, 2016</td>\n",
              "      <td>1</td>\n",
              "      <td>Trump touts 'great' day in D.C. meeting with R...</td>\n",
              "    </tr>\n",
              "    <tr>\n",
              "      <th>4880</th>\n",
              "      <td>Republican lawmakers: health plan tax credit c...</td>\n",
              "      <td>WASHINGTON (Reuters) - U.S. Republicans’ propo...</td>\n",
              "      <td>politicsNews</td>\n",
              "      <td>March 17, 2017</td>\n",
              "      <td>1</td>\n",
              "      <td>Republican lawmakers: health plan tax credit c...</td>\n",
              "    </tr>\n",
              "    <tr>\n",
              "      <th>2099</th>\n",
              "      <td>Amid Trump backlash, his U.N. envoy says stand...</td>\n",
              "      <td>WASHINGTON (Reuters) - U.S. Ambassador to the ...</td>\n",
              "      <td>politicsNews</td>\n",
              "      <td>August 19, 2017</td>\n",
              "      <td>1</td>\n",
              "      <td>Amid Trump backlash, his U.N. envoy says stand...</td>\n",
              "    </tr>\n",
              "    <tr>\n",
              "      <th>5854</th>\n",
              "      <td>Trump Has Now Banned NINE Media Outlets – A L...</td>\n",
              "      <td>When Donald Trump banned the Washington Post f...</td>\n",
              "      <td>News</td>\n",
              "      <td>June 16, 2016</td>\n",
              "      <td>0</td>\n",
              "      <td>Trump Has Now Banned NINE Media Outlets – A L...</td>\n",
              "    </tr>\n",
              "  </tbody>\n",
              "</table>\n",
              "<p>38647 rows × 6 columns</p>\n",
              "</div>\n",
              "    <div class=\"colab-df-buttons\">\n",
              "\n",
              "  <div class=\"colab-df-container\">\n",
              "    <button class=\"colab-df-convert\" onclick=\"convertToInteractive('df-d92de95e-1f9b-4748-9e1c-ca18211f77ed')\"\n",
              "            title=\"Convert this dataframe to an interactive table.\"\n",
              "            style=\"display:none;\">\n",
              "\n",
              "  <svg xmlns=\"http://www.w3.org/2000/svg\" height=\"24px\" viewBox=\"0 -960 960 960\">\n",
              "    <path d=\"M120-120v-720h720v720H120Zm60-500h600v-160H180v160Zm220 220h160v-160H400v160Zm0 220h160v-160H400v160ZM180-400h160v-160H180v160Zm440 0h160v-160H620v160ZM180-180h160v-160H180v160Zm440 0h160v-160H620v160Z\"/>\n",
              "  </svg>\n",
              "    </button>\n",
              "\n",
              "  <style>\n",
              "    .colab-df-container {\n",
              "      display:flex;\n",
              "      gap: 12px;\n",
              "    }\n",
              "\n",
              "    .colab-df-convert {\n",
              "      background-color: #E8F0FE;\n",
              "      border: none;\n",
              "      border-radius: 50%;\n",
              "      cursor: pointer;\n",
              "      display: none;\n",
              "      fill: #1967D2;\n",
              "      height: 32px;\n",
              "      padding: 0 0 0 0;\n",
              "      width: 32px;\n",
              "    }\n",
              "\n",
              "    .colab-df-convert:hover {\n",
              "      background-color: #E2EBFA;\n",
              "      box-shadow: 0px 1px 2px rgba(60, 64, 67, 0.3), 0px 1px 3px 1px rgba(60, 64, 67, 0.15);\n",
              "      fill: #174EA6;\n",
              "    }\n",
              "\n",
              "    .colab-df-buttons div {\n",
              "      margin-bottom: 4px;\n",
              "    }\n",
              "\n",
              "    [theme=dark] .colab-df-convert {\n",
              "      background-color: #3B4455;\n",
              "      fill: #D2E3FC;\n",
              "    }\n",
              "\n",
              "    [theme=dark] .colab-df-convert:hover {\n",
              "      background-color: #434B5C;\n",
              "      box-shadow: 0px 1px 3px 1px rgba(0, 0, 0, 0.15);\n",
              "      filter: drop-shadow(0px 1px 2px rgba(0, 0, 0, 0.3));\n",
              "      fill: #FFFFFF;\n",
              "    }\n",
              "  </style>\n",
              "\n",
              "    <script>\n",
              "      const buttonEl =\n",
              "        document.querySelector('#df-d92de95e-1f9b-4748-9e1c-ca18211f77ed button.colab-df-convert');\n",
              "      buttonEl.style.display =\n",
              "        google.colab.kernel.accessAllowed ? 'block' : 'none';\n",
              "\n",
              "      async function convertToInteractive(key) {\n",
              "        const element = document.querySelector('#df-d92de95e-1f9b-4748-9e1c-ca18211f77ed');\n",
              "        const dataTable =\n",
              "          await google.colab.kernel.invokeFunction('convertToInteractive',\n",
              "                                                    [key], {});\n",
              "        if (!dataTable) return;\n",
              "\n",
              "        const docLinkHtml = 'Like what you see? Visit the ' +\n",
              "          '<a target=\"_blank\" href=https://colab.research.google.com/notebooks/data_table.ipynb>data table notebook</a>'\n",
              "          + ' to learn more about interactive tables.';\n",
              "        element.innerHTML = '';\n",
              "        dataTable['output_type'] = 'display_data';\n",
              "        await google.colab.output.renderOutput(dataTable, element);\n",
              "        const docLink = document.createElement('div');\n",
              "        docLink.innerHTML = docLinkHtml;\n",
              "        element.appendChild(docLink);\n",
              "      }\n",
              "    </script>\n",
              "  </div>\n",
              "\n",
              "\n",
              "<div id=\"df-eed5a0b3-74c3-40ad-bf97-983e11f89ddb\">\n",
              "  <button class=\"colab-df-quickchart\" onclick=\"quickchart('df-eed5a0b3-74c3-40ad-bf97-983e11f89ddb')\"\n",
              "            title=\"Suggest charts\"\n",
              "            style=\"display:none;\">\n",
              "\n",
              "<svg xmlns=\"http://www.w3.org/2000/svg\" height=\"24px\"viewBox=\"0 0 24 24\"\n",
              "     width=\"24px\">\n",
              "    <g>\n",
              "        <path d=\"M19 3H5c-1.1 0-2 .9-2 2v14c0 1.1.9 2 2 2h14c1.1 0 2-.9 2-2V5c0-1.1-.9-2-2-2zM9 17H7v-7h2v7zm4 0h-2V7h2v10zm4 0h-2v-4h2v4z\"/>\n",
              "    </g>\n",
              "</svg>\n",
              "  </button>\n",
              "\n",
              "<style>\n",
              "  .colab-df-quickchart {\n",
              "      --bg-color: #E8F0FE;\n",
              "      --fill-color: #1967D2;\n",
              "      --hover-bg-color: #E2EBFA;\n",
              "      --hover-fill-color: #174EA6;\n",
              "      --disabled-fill-color: #AAA;\n",
              "      --disabled-bg-color: #DDD;\n",
              "  }\n",
              "\n",
              "  [theme=dark] .colab-df-quickchart {\n",
              "      --bg-color: #3B4455;\n",
              "      --fill-color: #D2E3FC;\n",
              "      --hover-bg-color: #434B5C;\n",
              "      --hover-fill-color: #FFFFFF;\n",
              "      --disabled-bg-color: #3B4455;\n",
              "      --disabled-fill-color: #666;\n",
              "  }\n",
              "\n",
              "  .colab-df-quickchart {\n",
              "    background-color: var(--bg-color);\n",
              "    border: none;\n",
              "    border-radius: 50%;\n",
              "    cursor: pointer;\n",
              "    display: none;\n",
              "    fill: var(--fill-color);\n",
              "    height: 32px;\n",
              "    padding: 0;\n",
              "    width: 32px;\n",
              "  }\n",
              "\n",
              "  .colab-df-quickchart:hover {\n",
              "    background-color: var(--hover-bg-color);\n",
              "    box-shadow: 0 1px 2px rgba(60, 64, 67, 0.3), 0 1px 3px 1px rgba(60, 64, 67, 0.15);\n",
              "    fill: var(--button-hover-fill-color);\n",
              "  }\n",
              "\n",
              "  .colab-df-quickchart-complete:disabled,\n",
              "  .colab-df-quickchart-complete:disabled:hover {\n",
              "    background-color: var(--disabled-bg-color);\n",
              "    fill: var(--disabled-fill-color);\n",
              "    box-shadow: none;\n",
              "  }\n",
              "\n",
              "  .colab-df-spinner {\n",
              "    border: 2px solid var(--fill-color);\n",
              "    border-color: transparent;\n",
              "    border-bottom-color: var(--fill-color);\n",
              "    animation:\n",
              "      spin 1s steps(1) infinite;\n",
              "  }\n",
              "\n",
              "  @keyframes spin {\n",
              "    0% {\n",
              "      border-color: transparent;\n",
              "      border-bottom-color: var(--fill-color);\n",
              "      border-left-color: var(--fill-color);\n",
              "    }\n",
              "    20% {\n",
              "      border-color: transparent;\n",
              "      border-left-color: var(--fill-color);\n",
              "      border-top-color: var(--fill-color);\n",
              "    }\n",
              "    30% {\n",
              "      border-color: transparent;\n",
              "      border-left-color: var(--fill-color);\n",
              "      border-top-color: var(--fill-color);\n",
              "      border-right-color: var(--fill-color);\n",
              "    }\n",
              "    40% {\n",
              "      border-color: transparent;\n",
              "      border-right-color: var(--fill-color);\n",
              "      border-top-color: var(--fill-color);\n",
              "    }\n",
              "    60% {\n",
              "      border-color: transparent;\n",
              "      border-right-color: var(--fill-color);\n",
              "    }\n",
              "    80% {\n",
              "      border-color: transparent;\n",
              "      border-right-color: var(--fill-color);\n",
              "      border-bottom-color: var(--fill-color);\n",
              "    }\n",
              "    90% {\n",
              "      border-color: transparent;\n",
              "      border-bottom-color: var(--fill-color);\n",
              "    }\n",
              "  }\n",
              "</style>\n",
              "\n",
              "  <script>\n",
              "    async function quickchart(key) {\n",
              "      const quickchartButtonEl =\n",
              "        document.querySelector('#' + key + ' button');\n",
              "      quickchartButtonEl.disabled = true;  // To prevent multiple clicks.\n",
              "      quickchartButtonEl.classList.add('colab-df-spinner');\n",
              "      try {\n",
              "        const charts = await google.colab.kernel.invokeFunction(\n",
              "            'suggestCharts', [key], {});\n",
              "      } catch (error) {\n",
              "        console.error('Error during call to suggestCharts:', error);\n",
              "      }\n",
              "      quickchartButtonEl.classList.remove('colab-df-spinner');\n",
              "      quickchartButtonEl.classList.add('colab-df-quickchart-complete');\n",
              "    }\n",
              "    (() => {\n",
              "      let quickchartButtonEl =\n",
              "        document.querySelector('#df-eed5a0b3-74c3-40ad-bf97-983e11f89ddb button');\n",
              "      quickchartButtonEl.style.display =\n",
              "        google.colab.kernel.accessAllowed ? 'block' : 'none';\n",
              "    })();\n",
              "  </script>\n",
              "</div>\n",
              "    </div>\n",
              "  </div>\n"
            ],
            "application/vnd.google.colaboratory.intrinsic+json": {
              "type": "dataframe",
              "summary": "{\n  \"name\": \"news\",\n  \"rows\": 38647,\n  \"fields\": [\n    {\n      \"column\": \"title\",\n      \"properties\": {\n        \"dtype\": \"string\",\n        \"num_unique_values\": 38271,\n        \"samples\": [\n          \"REP SHEILA JACKSON LEE Suggests First Class Customer Is A Racist For Complaining About Being Bumped To Back Of Plane By United Airlines To Give Lee Her Seat\\u2026Customer Claims Apology Never Happened: \\u201cUnited has NOT apologized to me\\u201d\",\n          \"California lethal injection plan spurs capital punishment fight\",\n          \"U.S. Justice Department to cities: Focus on crime committed by illegal immigrants\"\n        ],\n        \"semantic_type\": \"\",\n        \"description\": \"\"\n      }\n    },\n    {\n      \"column\": \"text\",\n      \"properties\": {\n        \"dtype\": \"string\",\n        \"num_unique_values\": 38646,\n        \"samples\": [\n          \"(Reuters) - Former Illinois governor Rod Blagojevich lost his latest bid for leniency as a federal appeals court refused to shorten his 14-year prison term in a vast public corruption case, including an effort to sell Barack Obama\\u2019s U.S. Senate seat. The 7th U.S. Circuit Court of Appeals in Chicago dismissed arguments that Blagojevich deserved a lesser punishment because he had been a \\u201cmodel prisoner\\u201d in the five years he has already spent in prison and because some counts in his original 2011 conviction had been thrown out. Friday\\u2019s 3-0 decision came three days after oral arguments, suggesting little or no disagreement. It likely ends Blagojevich\\u2019s chances at shortening his sentence. The one-time contestant on Donald Trump\\u2019s \\u201cCelebrity Apprentice\\u201d could ask the entire 7th Circuit or the U.S. Supreme Court to review his case, but both are long shots. Leonard Goodman, a lawyer for Blagojevich, did not respond to requests for comment. He told the Chicago Tribune the decision was \\u201cincredibly sad and disappointing.\\u201d The office of acting U.S. Attorney Joel Levin in Chicago declined to comment. Blagojevich, 60, was convicted on charges including wire fraud, extortion and soliciting bribes while governor. He served from January 2003 to January 2009, when the Illinois Senate removed him from office. Prosecutors said Blagojevich solicited campaign contributions in exchange for raising pediatric reimbursement rates and legislation supporting Illinois\\u2019 horse racing industry. Blagojevich also tried to sell or trade the Senate seat that Obama vacated after winning the 2008 U.S. presidential election, prosecutors said. The appeals court in 2015 voided five of Blagojevich\\u2019s 18 convictions and ordered a resentencing, but U.S. District Judge James Zagel in Chicago reimposed the 14-year term last August. Zagel acknowledged the pain Blagojevich\\u2019s family was suffering but said the punishment reflected federal guidelines and that \\u201cthe fault lies with the governor.\\u201d In Friday\\u2019s decision, Circuit Judge Frank Easterbrook said Zagel acted within his discretion. \\u201cBlagojevich\\u2019s treatment of fellow inmates may show that outside of office he is an admirable person, but the court was entitled to impose punishment that reflects how Blagojevich behaved when he had a different menu of opportunities and to deter those who hold office today,\\u201d Easterbrook wrote. Easterbrook also said the Supreme Court\\u2019s voiding last June of former Virginia Governor Bob McDonnell\\u2019s bribery convictions did not undermine Blagojevich\\u2019s conviction. Blagojevich is housed in a low-security prison in Littleton, Colorado, and eligible for release in May 2024. \",\n          \"Online retailer ASOS has come under fire for their horrible lack of judgment in having a black model wear a t-shirt that has the word  slave  on it in huge letters. For some reason, it never occurred to anyone in the process of approval that this might be considered extremely racist.The t-shirt, which is by the brand Wasted Heroes, was posted to ASOS  website and the internet basically blew up as soon as it was published. It didn t take long before there was enough backlash to encourage the company to remove the photo, as Twitter users reprimanded the company with an onslaught of complaints.Seriously, you have to be pretty dense in order to overlook how bad of an idea this t-shirt and photo was. But apparently, ASOS is fine with being ignorant   the company took zero responsibility for the offense, and instead blamed the manufacturer. A spokesperson for the company offered no apology and simply said: Marketplace is a collection of independent sellers [like Wasted Heroes] who must agree to our terms and conditions when they join. Whenever we find a product that violates our policies we remove it immediately. The company s response on social media was equally underwhelming, and pointed complaints to the manufacturer:Wasted Heroes didn t do much better, but they at least admitted that the decision was  extremely stupid of us. The company s weak attempt at an apology was overshadowed by the suggestion that shoppers had misinterpreted the shirt. When you go to Wasted Heroes  website, you can see the same t-shirt alongside other slave-themed merchandise   although the shirts are hanging from a bar and chains instead of people.One has to wonder how such monstrous mistakes go unnoticed and make it all the way to a company s website without one person raising a red flag. This is ASOS  second strike within the last few months   last October, the company was criticized for selling bindis in their site s Halloween section.There have been several instances of other retailers making similar racist or culturally clueless mistakes. In 2014, Zara had to remove a children s shirt because it bared resemblance to concentration camp uniforms. A few years before that, Adidas was forced to pull a pair of trainers before they even got to stores because the shoes included Velcro shackles, which caused outrage for being reminiscent of shackles worn by prisoners or slaves.Companies need to do better. There s no reason why something as racist, offensive and culturally inappropriate as these examples should make it all the way up the chain of commands and onto shelves or websites. Featured image via ASOS website\",\n          \"Coming into Tuesday s Republican primary in Indiana it was pretty much do or die for Ted Cruz. He had to win or his campaign for the presidency was effectively over. And boy did he try. He put all he could into trying to win over the Hoosier state, but try as he might, he failed miserably. Donald Trump won with over 50 percent of the vote and Ted Cruz was left with a tough decision to make.By the end of Cruz s speech after his Indiana loss it was pretty damn clear that he was about to suspend his campaign. He spoke in broad, sweeping conservative analogies that had nothing to do with becoming president. And what seemed obvious became reality when he told everyone that he was pulling out of the race.One person, however, saw the delicious irony in Cruz quitting early, and that person was Full Frontal s Samantha Bee. She took to Twitter to tell Cruz what he should have done with his campaign.Bee wrote: Shouldn t Ted Cruz have been forced to carry his unviable campaign to term? Shouldn't #TedCruz have been forced to carry his unviable campaign to term?  Full Frontal (@FullFrontalSamB) May 4, 2016Of course, this being a play on Cruz s ridiculous stance on abortion rights. The man claims he stands up for women, but apparently that means loving women so much that he s the person to make all of their health decisions. He s also been one of the key reasons the Planned Parenthood myth of baby body parts has gone on for so long.Ted Cruz is a liar and a smarmy salesman that just couldn t figure out how to sell himself to the American voting public. He was so bad, in fact, that he couldn t even make himself look good next to Donald Trump.Bee also tweeted:At least the #TedCruz campaign died as it lived under Trump's heel while Republicans looked on with indifference.  Full Frontal (@FullFrontalSamB) May 4, 2016Good on Samantha Bee for pointing out such delicious irony. Never stop being you.Featured Photo by Frederick M. Brown/Getty Images   Twitter\"\n        ],\n        \"semantic_type\": \"\",\n        \"description\": \"\"\n      }\n    },\n    {\n      \"column\": \"subject\",\n      \"properties\": {\n        \"dtype\": \"category\",\n        \"num_unique_values\": 7,\n        \"samples\": [\n          \"worldnews\",\n          \"politicsNews\",\n          \"US_News\"\n        ],\n        \"semantic_type\": \"\",\n        \"description\": \"\"\n      }\n    },\n    {\n      \"column\": \"date\",\n      \"properties\": {\n        \"dtype\": \"category\",\n        \"num_unique_values\": 2397,\n        \"samples\": [\n          \"Jul 21, 2016\",\n          \"June 28, 2017\",\n          \"August 31, 2016 \"\n        ],\n        \"semantic_type\": \"\",\n        \"description\": \"\"\n      }\n    },\n    {\n      \"column\": \"True/Fake\",\n      \"properties\": {\n        \"dtype\": \"number\",\n        \"std\": 0,\n        \"min\": 0,\n        \"max\": 1,\n        \"num_unique_values\": 2,\n        \"samples\": [\n          0,\n          1\n        ],\n        \"semantic_type\": \"\",\n        \"description\": \"\"\n      }\n    },\n    {\n      \"column\": \"Article\",\n      \"properties\": {\n        \"dtype\": \"string\",\n        \"num_unique_values\": 38647,\n        \"samples\": [\n          \"Ex-Illinois Governor Blagojevich loses bid to cut prison term(Reuters) - Former Illinois governor Rod Blagojevich lost his latest bid for leniency as a federal appeals court refused to shorten his 14-year prison term in a vast public corruption case, including an effort to sell Barack Obama\\u2019s U.S. Senate seat. The 7th U.S. Circuit Court of Appeals in Chicago dismissed arguments that Blagojevich deserved a lesser punishment because he had been a \\u201cmodel prisoner\\u201d in the five years he has already spent in prison and because some counts in his original 2011 conviction had been thrown out. Friday\\u2019s 3-0 decision came three days after oral arguments, suggesting little or no disagreement. It likely ends Blagojevich\\u2019s chances at shortening his sentence. The one-time contestant on Donald Trump\\u2019s \\u201cCelebrity Apprentice\\u201d could ask the entire 7th Circuit or the U.S. Supreme Court to review his case, but both are long shots. Leonard Goodman, a lawyer for Blagojevich, did not respond to requests for comment. He told the Chicago Tribune the decision was \\u201cincredibly sad and disappointing.\\u201d The office of acting U.S. Attorney Joel Levin in Chicago declined to comment. Blagojevich, 60, was convicted on charges including wire fraud, extortion and soliciting bribes while governor. He served from January 2003 to January 2009, when the Illinois Senate removed him from office. Prosecutors said Blagojevich solicited campaign contributions in exchange for raising pediatric reimbursement rates and legislation supporting Illinois\\u2019 horse racing industry. Blagojevich also tried to sell or trade the Senate seat that Obama vacated after winning the 2008 U.S. presidential election, prosecutors said. The appeals court in 2015 voided five of Blagojevich\\u2019s 18 convictions and ordered a resentencing, but U.S. District Judge James Zagel in Chicago reimposed the 14-year term last August. Zagel acknowledged the pain Blagojevich\\u2019s family was suffering but said the punishment reflected federal guidelines and that \\u201cthe fault lies with the governor.\\u201d In Friday\\u2019s decision, Circuit Judge Frank Easterbrook said Zagel acted within his discretion. \\u201cBlagojevich\\u2019s treatment of fellow inmates may show that outside of office he is an admirable person, but the court was entitled to impose punishment that reflects how Blagojevich behaved when he had a different menu of opportunities and to deter those who hold office today,\\u201d Easterbrook wrote. Easterbrook also said the Supreme Court\\u2019s voiding last June of former Virginia Governor Bob McDonnell\\u2019s bribery convictions did not undermine Blagojevich\\u2019s conviction. Blagojevich is housed in a low-security prison in Littleton, Colorado, and eligible for release in May 2024. \",\n          \"HILLARY LIES THROUGH HER TEETH: Defends Paying for Fake Trump Dossier During Campaign [video]Hillary Clinton told Trevor Noah on the Daily Show that  of course  there is a difference between paying for that information and colluding with Russia to influence the 2016 election WHAT A LOAD OF BS! She s trying to say that it s a forgone conclusion that Trump colluded with Russia. Clinton said the dossier was simply  opposition research  and pointed to the fact that it was not public knowledge during the election MORE BS! THE DOSSIER WAS PUBLIC KNOWLEDGE DURING THE ELECTION: The NYT even states that,  The document, a dossier prepared by a former British intelligence officer hired by Mr. Trump s political opponents, had been circulating among high-ranking politicians and some journalists since last fall. Mother Jones, a left-leaning publication, published an article in late October about the existence of the information. Newsweek also  published some of the allegations.It s what she doesn t say that s more important Tonight at 11/10c, Trevor and Hillary Clinton discuss the Steele dossier and Trump's ties to Russia. pic.twitter.com/dxJoAPTj8D  The Daily Show (@TheDailyShow) November 1, 2017What she didn t talk about is the fact that this dossier is totally fabricated and was never confirmed to be true but they shopped it around to the media anyway! She funneled millions into the payment for this dossier instead of using it for  legal services . She faces an investigation from the Federal elections commission for misusing funds.Clinton said:  It was research that started by a Republican donor during the primary, and then when Trump got the nomination for the Republican Party, the people doing it came to my campaign lawyer and said,  would you like us to continue it? He said yes. He s an experienced lawyer, he knows what the law is, he knows what opposition research is.DIRTY DOSSIER:The dossier circulated in Washington last year and was turned over to the FBI for its review. It contends that Russia was engaged in a long-standing effort to aid Trump and had amassed compromising information about the Republican.Among its wild claims was that Russian officials have videos of the president cavorting with prostitutes, filmed during Trump s 2013 visit to a luxury Moscow hotel for the Miss Universe contest It also contains a highly unusual and unsubstantiated report that the call girls performed a  golden shower  routine that involved them urinating on a hotel bed as a sign of disgust for then-president Barack Obama.It is claimed that Barack Obama s campaign organization, Obama For America, paid Perkins Coie almost $1million to fund the research. Debbie Wasserman Schultz, the disgraced former DNC chair, has also denied any knowledge of how the dossier was put together.Read more: Daily Mail\"\n        ],\n        \"semantic_type\": \"\",\n        \"description\": \"\"\n      }\n    }\n  ]\n}"
            }
          },
          "metadata": {},
          "execution_count": 3
        }
      ],
      "source": [
        "# Preprocessing\n",
        "print(len(truenews))\n",
        "print(len(fakenews))\n",
        "truenews = truenews[truenews.duplicated('text') == False]\n",
        "fakenews = fakenews[fakenews.duplicated('text') == False]\n",
        "print(len(truenews))\n",
        "print(len(fakenews))\n",
        "\n",
        "\n",
        "truenews['True/Fake']=1 #'True'\n",
        "fakenews['True/Fake']=0 #'Fake'\n",
        "news = pd.concat([truenews, fakenews])\n",
        "news[\"Article\"] = news[\"title\"] + news[\"text\"]\n",
        "news.sample(frac = 1) #Shuffle 100%\n",
        "\n",
        "\n"
      ]
    },
    {
      "cell_type": "code",
      "execution_count": null,
      "metadata": {
        "colab": {
          "base_uri": "https://localhost:8080/"
        },
        "id": "cFxH9IuC3KmF",
        "outputId": "857523f3-d828-4f23-fe6e-3963574f531d"
      },
      "outputs": [
        {
          "output_type": "stream",
          "name": "stderr",
          "text": [
            "[nltk_data] Downloading package words to /root/nltk_data...\n",
            "[nltk_data]   Unzipping corpora/words.zip.\n"
          ]
        }
      ],
      "source": [
        "import nltk\n",
        "\n",
        "nltk.download('words')\n",
        "\n",
        "from nltk.corpus import words\n",
        "\n",
        "# Your array of text\n",
        "article_array = news[\"Article\"]\n",
        "\n",
        "# Set of English words\n",
        "english_word_set = set(words.words())\n",
        "\n",
        "# Function to filter words based on the English dictionary\n",
        "def filter_english_words(article):\n",
        "    #return ' '.join([word.lower() for word in article.split() if word.lower() in english_word_set and word.lower() not in set(stopwords.words('english'))])\n",
        "    return ' '.join([word.lower() for word in article.split() if word.lower() in english_word_set])\n",
        "\n",
        "# Apply the filter to each article in the array\n",
        "filtered_articles = [filter_english_words(article) for article in article_array]\n",
        "\n",
        "# Update the original array with the filtered results\n",
        "news['Clean Text'] = filtered_articles"
      ]
    },
    {
      "cell_type": "code",
      "execution_count": null,
      "metadata": {
        "id": "urbI28x72den"
      },
      "outputs": [],
      "source": [
        "# Tokenization\n",
        "tokenizer = Tokenizer(num_words=10000)  # Consider only top 10,000 words\n",
        "tokenizer.fit_on_texts(news['Clean Text'])\n",
        "X = tokenizer.texts_to_sequences(news['Clean Text'])\n",
        "X = pad_sequences(X, maxlen=500)  # Padding sequences to have a fixed length\n",
        "\n"
      ]
    },
    {
      "cell_type": "code",
      "execution_count": null,
      "metadata": {
        "id": "ys6Z4Uat2fL-"
      },
      "outputs": [],
      "source": [
        "y = news['True/Fake']"
      ]
    },
    {
      "cell_type": "code",
      "execution_count": null,
      "metadata": {
        "id": "sOFnKbMg2gJ8"
      },
      "outputs": [],
      "source": [
        "# Splitting dataset into train and test sets\n",
        "X_train, X_test, y_train, y_test = train_test_split(X, y, test_size=0.2, random_state=42)\n",
        "\n"
      ]
    },
    {
      "cell_type": "code",
      "execution_count": null,
      "metadata": {
        "id": "FeuqaWpT2hFn"
      },
      "outputs": [],
      "source": [
        "# Building the model\n",
        "\n",
        "class Model(tf.keras.Model):\n",
        "    def __init__(self):\n",
        "        super().__init__()\n",
        "        self.model = Sequential([\n",
        "            Embedding(input_dim=10000, output_dim=64, input_length=500),\n",
        "            Bidirectional(LSTM(64)),\n",
        "            Dropout(0.5),\n",
        "            Dense(1, activation='sigmoid')\n",
        "            ])\n",
        "\n",
        "    def call(self, inputs, training):\n",
        "        if training:\n",
        "          return self.model(inputs)\n",
        "        else:\n",
        "          print(tf.math.round(self.model(inputs)))\n",
        "          return tf.math.round(self.model(inputs))\n",
        "\n",
        "\n",
        "model = Model()\n",
        "\n"
      ]
    },
    {
      "cell_type": "code",
      "execution_count": null,
      "metadata": {
        "id": "keFLUA1y2i37"
      },
      "outputs": [],
      "source": [
        "# Compiling the model\n",
        "model.compile(loss='binary_crossentropy', optimizer='adam', metrics=['accuracy'])\n",
        "\n"
      ]
    },
    {
      "cell_type": "code",
      "execution_count": null,
      "metadata": {
        "colab": {
          "base_uri": "https://localhost:8080/"
        },
        "id": "yBFSfPrZ2jtW",
        "outputId": "e8d91705-7331-4b43-8075-2f0ee6176091"
      },
      "outputs": [
        {
          "output_type": "stream",
          "name": "stdout",
          "text": [
            "Epoch 1/5\n",
            "484/484 [==============================] - ETA: 0s - loss: 0.2314 - accuracy: 0.9106Tensor(\"model/Round:0\", shape=(None, 1), dtype=float32)\n",
            "484/484 [==============================] - 422s 860ms/step - loss: 0.2314 - accuracy: 0.9106 - val_loss: 0.6197 - val_accuracy: 0.9595\n",
            "Epoch 2/5\n",
            "484/484 [==============================] - 417s 862ms/step - loss: 0.2376 - accuracy: 0.9084 - val_loss: 1.1980 - val_accuracy: 0.9216\n",
            "Epoch 3/5\n",
            "484/484 [==============================] - 414s 855ms/step - loss: 0.2126 - accuracy: 0.9225 - val_loss: 1.1904 - val_accuracy: 0.9220\n",
            "Epoch 4/5\n",
            "484/484 [==============================] - 415s 857ms/step - loss: 0.1409 - accuracy: 0.9533 - val_loss: 0.5974 - val_accuracy: 0.9609\n",
            "Epoch 5/5\n",
            "484/484 [==============================] - 403s 831ms/step - loss: 0.1784 - accuracy: 0.9343 - val_loss: 0.7529 - val_accuracy: 0.9507\n"
          ]
        },
        {
          "output_type": "execute_result",
          "data": {
            "text/plain": [
              "<keras.src.callbacks.History at 0x7b8ff9081030>"
            ]
          },
          "metadata": {},
          "execution_count": 10
        }
      ],
      "source": [
        "# Training the model\n",
        "model.fit(X_train, y_train, epochs=5, batch_size=64, validation_data=(X_test, y_test))\n",
        "#model.model.load_weights(\"NN_fake_news_classification.h5\")\n"
      ]
    },
    {
      "cell_type": "code",
      "execution_count": null,
      "metadata": {
        "id": "pzOiojx1AAVv"
      },
      "outputs": [],
      "source": [
        "model.model.save(\"NN_fake_news_classification.keras\")\n",
        "\n"
      ]
    },
    {
      "cell_type": "code",
      "execution_count": null,
      "metadata": {
        "id": "KEtbU8g6APf0"
      },
      "outputs": [],
      "source": [
        "from tensorflow.keras.models import load_model\n",
        "\n",
        "# Load the model\n",
        "#model = load_model(\"NN_fake_news_classification.h5\")"
      ]
    },
    {
      "cell_type": "code",
      "execution_count": null,
      "metadata": {
        "colab": {
          "base_uri": "https://localhost:8080/"
        },
        "id": "MwuKezPC2kaI",
        "outputId": "081a98f6-af0f-4578-e674-60dd3f359d2b"
      },
      "outputs": [
        {
          "output_type": "stream",
          "name": "stdout",
          "text": [
            "242/242 [==============================] - 39s 160ms/step - loss: 0.7529 - accuracy: 0.9507\n",
            "Test Accuracy: 0.9507114887237549\n"
          ]
        }
      ],
      "source": [
        "# Evaluating the model\n",
        "loss, accuracy = model.evaluate(X_test, y_test)\n",
        "print(\"Test Accuracy:\", accuracy)\n",
        "\n"
      ]
    },
    {
      "cell_type": "code",
      "source": [
        "from sklearn.metrics import classification_report, confusion_matrix\n",
        "\n",
        "# Predicting on test data\n",
        "y_pred = model.predict(X_test)\n",
        "y_pred = (y_pred > 0.5)  # Converting probabilities to binary predictions\n",
        "\n",
        "# Getting classification report\n",
        "print(\"Classification Report:\")\n",
        "print(classification_report(y_test, y_pred))\n",
        "\n",
        "# Getting confusion matrix\n",
        "print(\"Confusion Matrix:\")\n",
        "print(confusion_matrix(y_test, y_pred))"
      ],
      "metadata": {
        "colab": {
          "base_uri": "https://localhost:8080/"
        },
        "id": "7Q-Rrl7vItUz",
        "outputId": "049687ba-a628-4efb-8f52-873091c4798b"
      },
      "execution_count": null,
      "outputs": [
        {
          "output_type": "stream",
          "name": "stdout",
          "text": [
            "242/242 [==============================] - 39s 162ms/step\n",
            "Classification Report:\n",
            "              precision    recall  f1-score   support\n",
            "\n",
            "           0       0.98      0.91      0.94      3486\n",
            "           1       0.93      0.99      0.96      4244\n",
            "\n",
            "    accuracy                           0.95      7730\n",
            "   macro avg       0.96      0.95      0.95      7730\n",
            "weighted avg       0.95      0.95      0.95      7730\n",
            "\n",
            "Confusion Matrix:\n",
            "[[3163  323]\n",
            " [  58 4186]]\n"
          ]
        }
      ]
    },
    {
      "cell_type": "code",
      "source": [],
      "metadata": {
        "id": "IXAgXVLhHzgx"
      },
      "execution_count": null,
      "outputs": []
    },
    {
      "cell_type": "code",
      "execution_count": null,
      "metadata": {
        "id": "62gEHCmI-T00"
      },
      "outputs": [],
      "source": [
        "import pandas as pd\n",
        "import numpy as np\n",
        "import tensorflow as tf\n",
        "from tensorflow.keras.preprocessing.text import Tokenizer\n",
        "from tensorflow.keras.preprocessing.sequence import pad_sequences\n",
        "\n",
        "\n",
        "reddit_before = pd.read_csv('/content/before_top_100_final.csv', encoding='ISO-8859-1')\n",
        "reddit_before = reddit_before.dropna(subset=['title', 'text'])\n",
        "\n",
        "\n",
        "\n",
        "\n",
        "# Assuming your new data is stored in a DataFrame named 'new_data'\n",
        "# Combine 'headline' and 'text' columns\n",
        "reddit_before[\"Article\"] = reddit_before[\"title\"] + \" \" + reddit_before[\"text\"]\n",
        "\n",
        "\n"
      ]
    },
    {
      "cell_type": "code",
      "execution_count": null,
      "metadata": {
        "colab": {
          "base_uri": "https://localhost:8080/"
        },
        "id": "Gl0mfCF-1W96",
        "outputId": "4dc69fce-b3b9-4548-9549-d2cda2fd9ed1"
      },
      "outputs": [
        {
          "output_type": "stream",
          "name": "stderr",
          "text": [
            "[nltk_data] Downloading package words to /root/nltk_data...\n",
            "[nltk_data]   Package words is already up-to-date!\n"
          ]
        }
      ],
      "source": [
        "nltk.download('words')\n",
        "\n",
        "from nltk.corpus import words\n",
        "\n",
        "# Your array of text\n",
        "article_array = reddit_before[\"Article\"]\n",
        "\n",
        "# Set of English words\n",
        "english_word_set = set(words.words())\n",
        "\n",
        "# Function to filter words based on the English dictionary\n",
        "def filter_english_words(article):\n",
        "    if isinstance(article, str):  # Check if the value is a string\n",
        "        return ' '.join([word.lower() for word in article.split() if word.lower() in english_word_set])\n",
        "    else:\n",
        "        return ''  # Return an empty string for non-string values\n",
        "\n",
        "# Apply the filter to each article in the array\n",
        "filtered_articles = [filter_english_words(article) for article in article_array]\n",
        "\n",
        "# Update the original array with the filtered results\n",
        "reddit_before['Clean Text'] = filtered_articles"
      ]
    },
    {
      "cell_type": "code",
      "execution_count": null,
      "metadata": {
        "colab": {
          "base_uri": "https://localhost:8080/"
        },
        "id": "Y9TyLX5P1adj",
        "outputId": "12b19f3c-4ec5-4425-e29c-d287a41d8e73"
      },
      "outputs": [
        {
          "output_type": "stream",
          "name": "stdout",
          "text": [
            "Tensor(\"model/Round:0\", shape=(32, 1), dtype=float32)\n",
            "3/3 [==============================] - 2s 122ms/step\n"
          ]
        }
      ],
      "source": [
        "# Tokenization\n",
        "X_new = tokenizer.texts_to_sequences(filtered_articles)\n",
        "X_new = pad_sequences(X_new, maxlen=500)\n",
        "\n",
        "# Predict labels for the new data using the trained model\n",
        "predictions = model.predict(X_new)\n",
        "\n",
        "# Convert probabilities to class labels ('True' or 'False')\n",
        "predicted_labels = (predictions > 0.5).astype(bool)\n",
        "\n",
        "# Convert boolean labels to 'True' and 'False' strings\n",
        "predicted_labels_str = np.where(predicted_labels, True, False)\n",
        "\n",
        "# Add the predicted labels to the new_data DataFrame\n",
        "reddit_before[\"Predicted_Labels\"] = predicted_labels_str"
      ]
    },
    {
      "cell_type": "code",
      "execution_count": null,
      "metadata": {
        "colab": {
          "base_uri": "https://localhost:8080/"
        },
        "id": "umu33i8F1eG5",
        "outputId": "db76d347-ac8a-4ed3-b03f-65d93e66f6af"
      },
      "outputs": [
        {
          "output_type": "stream",
          "name": "stdout",
          "text": [
            "Count of 'True': 80\n",
            "Count of 'False': 16\n",
            "% True: 83.33333333333334\n",
            "% False: 16.666666666666664\n"
          ]
        }
      ],
      "source": [
        "\n",
        "# Count the occurrences of each value in the 'column_name' column\n",
        "value_counts = reddit_before['Predicted_Labels'].value_counts()\n",
        "\n",
        "# Print the counts\n",
        "print(\"Count of 'True':\", value_counts[True])\n",
        "print(\"Count of 'False':\", value_counts[False])\n",
        "\n",
        "# Calculate percentages\n",
        "percent_true = (value_counts[True] / len(reddit_before)) * 100\n",
        "percent_false = (value_counts[False] / len(reddit_before)) * 100\n",
        "\n",
        "# Print percentages\n",
        "print(\"% True:\", percent_true)\n",
        "print(\"% False:\", percent_false)"
      ]
    },
    {
      "cell_type": "code",
      "execution_count": null,
      "metadata": {
        "id": "eyCzSyyl1exm"
      },
      "outputs": [],
      "source": [
        "reddit_after = pd.read_csv('/content/after_top_100_final.csv', encoding='ISO-8859-1')\n",
        "reddit_after = reddit_after.dropna(subset=['title', 'text'])\n",
        "\n",
        "\n",
        "# Assuming your new data is stored in a DataFrame named 'new_data'\n",
        "# Combine 'headline' and 'text' columns\n",
        "reddit_after[\"Article\"] = reddit_after[\"title\"] + \" \" + reddit_after[\"text\"]\n"
      ]
    },
    {
      "cell_type": "code",
      "execution_count": null,
      "metadata": {
        "colab": {
          "base_uri": "https://localhost:8080/"
        },
        "id": "_gpKBrhL1epB",
        "outputId": "cd48be78-4485-44bc-cb90-a5f33f619603"
      },
      "outputs": [
        {
          "output_type": "stream",
          "name": "stderr",
          "text": [
            "[nltk_data] Downloading package words to /root/nltk_data...\n",
            "[nltk_data]   Package words is already up-to-date!\n"
          ]
        }
      ],
      "source": [
        "nltk.download('words')\n",
        "\n",
        "from nltk.corpus import words\n",
        "\n",
        "# Your array of text\n",
        "article_array = reddit_after[\"Article\"]\n",
        "\n",
        "# Set of English words\n",
        "english_word_set = set(words.words())\n",
        "\n",
        "# Function to filter words based on the English dictionary\n",
        "def filter_english_words(article):\n",
        "    if isinstance(article, str):  # Check if the value is a string\n",
        "        return ' '.join([word.lower() for word in article.split() if word.lower() in english_word_set])\n",
        "    else:\n",
        "        return ''  # Return an empty string for non-string values\n",
        "\n",
        "# Apply the filter to each article in the array\n",
        "filtered_articles = [filter_english_words(article) for article in article_array]\n",
        "\n",
        "# Update the original array with the filtered results\n",
        "reddit_after['Clean Text'] = filtered_articles"
      ]
    },
    {
      "cell_type": "code",
      "execution_count": null,
      "metadata": {
        "colab": {
          "base_uri": "https://localhost:8080/"
        },
        "id": "YW14_V6V1ivB",
        "outputId": "852569f5-388c-4720-b720-86672acf7d40"
      },
      "outputs": [
        {
          "output_type": "stream",
          "name": "stdout",
          "text": [
            "Tensor(\"model/Round:0\", shape=(None, 1), dtype=float32)\n",
            "3/3 [==============================] - 3s 105ms/step\n"
          ]
        }
      ],
      "source": [
        "# Tokenization\n",
        "X_new = tokenizer.texts_to_sequences(filtered_articles)\n",
        "X_new = pad_sequences(X_new, maxlen=500)\n",
        "\n",
        "# Predict labels for the new data using the trained model\n",
        "predictions = model.predict(X_new)\n",
        "\n",
        "# Convert probabilities to class labels ('True' or 'False')\n",
        "predicted_labels = (predictions > 0.5).astype(bool)\n",
        "\n",
        "# Convert boolean labels to 'True' and 'False' strings\n",
        "predicted_labels_str = np.where(predicted_labels, True, False)\n",
        "\n",
        "# Add the predicted labels to the new_data DataFrame\n",
        "reddit_after[\"Predicted_Labels\"] = predicted_labels_str"
      ]
    },
    {
      "cell_type": "code",
      "execution_count": null,
      "metadata": {
        "colab": {
          "base_uri": "https://localhost:8080/"
        },
        "id": "ac8zlul81k5B",
        "outputId": "3bb9a50c-eab5-4253-d6ba-05db7583603a"
      },
      "outputs": [
        {
          "output_type": "stream",
          "name": "stdout",
          "text": [
            "Count of 'True': 68\n",
            "Count of 'False': 20\n",
            "% True: 77.27272727272727\n",
            "% False: 22.727272727272727\n"
          ]
        }
      ],
      "source": [
        "# Count the occurrences of each value in the 'column_name' column\n",
        "value_counts = reddit_after['Predicted_Labels'].value_counts()\n",
        "\n",
        "# Print the counts\n",
        "print(\"Count of 'True':\", value_counts[True])\n",
        "print(\"Count of 'False':\", value_counts[False])\n",
        "# Calculate percentages\n",
        "percent_true = (value_counts[True] / len(reddit_after)) * 100\n",
        "percent_false = (value_counts[False] / len(reddit_after)) * 100\n",
        "\n",
        "# Print percentages\n",
        "print(\"% True:\", percent_true)\n",
        "print(\"% False:\", percent_false)\n",
        "\n"
      ]
    }
  ],
  "metadata": {
    "colab": {
      "provenance": []
    },
    "kernelspec": {
      "display_name": "Python 3",
      "name": "python3"
    },
    "language_info": {
      "name": "python"
    }
  },
  "nbformat": 4,
  "nbformat_minor": 0
}